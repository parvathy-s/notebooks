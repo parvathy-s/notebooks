{
    "cells": [
        {
            "cell_type": "code",
            "execution_count": 1,
            "metadata": {},
            "outputs": [
                {
                    "name": "stdout",
                    "output_type": "stream",
                    "text": "Waiting for a Spark session to start...\nSpark Initialization Done! ApplicationId = app-20210609172421-0000\nKERNEL_ID = 9f101737-e375-4d9b-b86a-506c514044d1\n"
                },
                {
                    "data": {
                        "text/plain": "[Row(Date='1/9/2019', Open='111.8', High='112.8', Low='111.56', Close='112.67'),\n Row(Date='1/8/2019', Open='111.8', High='112.56', Low='111.17', Close='111.42'),\n Row(Date='1/7/2019', Open='109.91', High='111.4', Low='109.3', Close='110.56'),\n Row(Date='1/4/2019', Open='107.94', High='110.75', Low='107.25', Close='109.61'),\n Row(Date='1/3/2019', Open='108.48', High='108.65', Low='105.9436', Close='106.33')]"
                    },
                    "execution_count": 1,
                    "metadata": {},
                    "output_type": "execute_result"
                }
            ],
            "source": "# The code was removed by Watson Studio for sharing."
        },
        {
            "cell_type": "code",
            "execution_count": null,
            "metadata": {},
            "outputs": [],
            "source": ""
        }
    ],
    "metadata": {
        "kernelspec": {
            "display_name": "Python 3.7 with Spark",
            "language": "python3",
            "name": "python37"
        },
        "language_info": {
            "codemirror_mode": {
                "name": "ipython",
                "version": 3
            },
            "file_extension": ".py",
            "mimetype": "text/x-python",
            "name": "python",
            "nbconvert_exporter": "python",
            "pygments_lexer": "ipython3",
            "version": "3.7.10"
        }
    },
    "nbformat": 4,
    "nbformat_minor": 1
}